{
 "cells": [
  {
   "cell_type": "code",
   "execution_count": null,
   "metadata": {},
   "outputs": [],
   "source": [
    "import csv"
   ]
  },
  {
   "cell_type": "code",
   "execution_count": null,
   "metadata": {},
   "outputs": [],
   "source": [
    "header = ['Anime', 'Genero']\n",
    "dados = []\n",
    "\n",
    "print('**'*10)\n",
    "print('  0 - Stop  ')\n",
    "print('  1 - Continue  ')\n",
    "print('**'*10)\n",
    "escolha = input('Escolha uma opção: ')\n",
    "while escolha != '1' and escolha != '0':\n",
    "    print('Por Favor, Escolha 1 ou 0')\n",
    "    escolha = input('Escolha uma opção: ')\n",
    "while escolha != '0':\n",
    "    anime = input('Nome do Anime: ')\n",
    "    genero = input('Genero do Anime: ')\n",
    "    dados.append([anime, genero])\n",
    "\n",
    "    escolha = input('Escolha uma opção: ')\n",
    "\n",
    "    with open('Lista_de_animes.csv','w', newline = '') as lista_animes:\n",
    "        lista = csv.writer(lista_animes)\n",
    "        lista.writerow(header)\n",
    "\n",
    "    with open('Lista_de_animes.csv','a', newline = '') as add_list:\n",
    "        add = csv.writer(add_list)\n",
    "        add.writerow(dados)\n",
    "\n",
    "\n",
    "    \n",
    "        \n",
    "\n",
    "\n"
   ]
  },
  {
   "cell_type": "code",
   "execution_count": null,
   "metadata": {},
   "outputs": [],
   "source": [
    "with open('Lista_de_animes.csv','r') as animes:\n",
    "    lista = csv.reader(animes, delimiter = ',')\n",
    "    for l in lista:\n",
    "        print(l)"
   ]
  }
 ],
 "metadata": {
  "kernelspec": {
   "display_name": "Python 3",
   "language": "python",
   "name": "python3"
  },
  "language_info": {
   "codemirror_mode": {
    "name": "ipython",
    "version": 3
   },
   "file_extension": ".py",
   "mimetype": "text/x-python",
   "name": "python",
   "nbconvert_exporter": "python",
   "pygments_lexer": "ipython3",
   "version": "3.8.5"
  }
 },
 "nbformat": 4,
 "nbformat_minor": 4
}
